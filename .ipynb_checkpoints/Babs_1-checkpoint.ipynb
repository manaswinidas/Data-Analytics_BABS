{
 "cells": [
  {
   "cell_type": "markdown",
   "metadata": {},
   "source": [
    "## Introduction\n",
    "In Bay area, bikes are given on rent in San Francisco, Redwood City, Palo Alto, Mountain View, and San Jose.Here the peak hour usage of bikes in that area is calculated."
   ]
  },
  {
   "cell_type": "code",
   "execution_count": 8,
   "metadata": {
    "collapsed": true
   },
   "outputs": [],
   "source": [
    "import matplotlib.pyplot as plt\n",
    "import pandas as pd\n",
    "import matplotlib.mlab as mlab\n",
    "import numpy as np\n",
    "import plotly.plotly as py\n",
    "import plotly.graph_objs as go"
   ]
  },
  {
   "cell_type": "markdown",
   "metadata": {},
   "source": [
    "Read csv files and extract date"
   ]
  },
  {
   "cell_type": "code",
   "execution_count": 2,
   "metadata": {
    "collapsed": true
   },
   "outputs": [],
   "source": [
    "trip_sept_feb = pd.read_csv('201309_trip_data.csv', names=('TripID','Duration','Start_Date','Start_Station','Start_Terminal','End_Date','End_Station','End_Terminal','Bike','Subscription_Type','Zip_Code'), header = 0)\n",
    "trip_sept_feb['Start_Date'] = pd.to_datetime(trip_sept_feb['Start_Date'])"
   ]
  },
  {
   "cell_type": "markdown",
   "metadata": {},
   "source": [
    "Extract exact dates and collect particular hours in an hour "
   ]
  },
  {
   "cell_type": "code",
   "execution_count": 3,
   "metadata": {
    "collapsed": true
   },
   "outputs": [],
   "source": [
    "# Extract the date\n",
    "trip_sept_feb[\"time\"] = [str(d.time()) for d in trip_sept_feb[\"Start_Date\"]]\n",
    "trip_sept_feb[\"hour\"] = 0\n",
    "only_hour = []\n",
    "for j in range(len(trip_sept_feb.index)):\n",
    "    a = (trip_sept_feb.iloc[j]['time'])\n",
    "    if (a[0] == '0'):\n",
    "        a = a[1]\n",
    "    else :\n",
    "        a = a[:2]\n",
    "    only_hour.append(int(a))\n",
    "    \n",
    "trip_sept_feb[\"hour\"] = only_hour"
   ]
  },
  {
   "cell_type": "code",
   "execution_count": 4,
   "metadata": {
    "collapsed": true
   },
   "outputs": [],
   "source": [
    "hour = []\n",
    "for i in range(1,24):\n",
    "    hour.append(i)"
   ]
  },
  {
   "cell_type": "markdown",
   "metadata": {},
   "source": [
    "Extract number of bikes per hour"
   ]
  },
  {
   "cell_type": "code",
   "execution_count": 6,
   "metadata": {
    "collapsed": true
   },
   "outputs": [],
   "source": [
    "bike_data = trip_sept_feb[[\"hour\", \"Bike\"]]\n",
    "\n",
    "no_bikes = []\n",
    "for j in hour:\n",
    "    b = bike_data[bike_data[\"hour\"] == j]\n",
    "    bike = b[\"Bike\"].sum()\n",
    "    no_bikes.append(bike)"
   ]
  },
  {
   "cell_type": "markdown",
   "metadata": {},
   "source": [
    "Plot the bar graph with the required colours"
   ]
  },
  {
   "cell_type": "code",
   "execution_count": 9,
   "metadata": {},
   "outputs": [
    {
     "data": {
      "text/html": [
       "<iframe id=\"igraph\" scrolling=\"no\" style=\"border:none;\" seamless=\"seamless\" src=\"https://plot.ly/~dasManaswini/8.embed\" height=\"525px\" width=\"100%\"></iframe>"
      ],
      "text/plain": [
       "<plotly.tools.PlotlyDisplay object>"
      ]
     },
     "execution_count": 9,
     "metadata": {},
     "output_type": "execute_result"
    }
   ],
   "source": [
    "x_= np.arange(len(hour))\n",
    "plt.figure(figsize=(10,7))\n",
    "\n",
    "data = [go.Bar(x=x_,y=no_bikes,\n",
    "        marker=dict(\n",
    "        color='rgb(158,202,225)',\n",
    "        line=dict(\n",
    "            color='rgb(8,48,107)',\n",
    "            width=1.5,\n",
    "        )\n",
    "    ),\n",
    "    opacity=0.6)\n",
    "       ]\n",
    "\n",
    "py.iplot(data, filename='basic-bar')  "
   ]
  }
 ],
 "metadata": {
  "kernelspec": {
   "display_name": "Python 3",
   "language": "python",
   "name": "python3"
  },
  "language_info": {
   "codemirror_mode": {
    "name": "ipython",
    "version": 3
   },
   "file_extension": ".py",
   "mimetype": "text/x-python",
   "name": "python",
   "nbconvert_exporter": "python",
   "pygments_lexer": "ipython3",
   "version": "3.6.2"
  }
 },
 "nbformat": 4,
 "nbformat_minor": 2
}
