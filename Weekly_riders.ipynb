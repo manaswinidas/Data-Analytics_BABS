{
 "cells": [
  {
   "cell_type": "code",
   "execution_count": 1,
   "metadata": {
    "collapsed": true
   },
   "outputs": [],
   "source": [
    "# import all necessary packages and functions.\n",
    "import datetime\n",
    "import numpy as np\n",
    "import pandas as pd\n",
    "import matplotlib.pyplot as plt\n",
    "import plotly.plotly as py\n",
    "import plotly.graph_objs as go"
   ]
  },
  {
   "cell_type": "code",
   "execution_count": 2,
   "metadata": {
    "collapsed": true
   },
   "outputs": [],
   "source": [
    "def days(day):\n",
    "    weekdays = {\"0\":\"Monday\", \"1\":\"Tuesday\", \"2\": \"Wednesday\", \"3\":\"Thursday\", \"4\":\"Friday\", \"5\":\"Saturday\", \"6\":\"Sunday\"}\n",
    "    return (weekdays[day])"
   ]
  },
  {
   "cell_type": "code",
   "execution_count": 3,
   "metadata": {
    "collapsed": true
   },
   "outputs": [],
   "source": [
    "weekday = [\"Monday\", \"Tuesday\",  \"Wednesday\", \"Thursday\", \"Friday\", \"Saturday\", \"Sunday\"]\n",
    "df_trip_201402 = pd.read_csv('201402_trip_data.csv', names=('TripID','Duration','Start_Date','Start_Station','Start_Terminal','End_Date','End_Station','End_Terminal','Bike','Subscription_Type','Zip_Code'), header = 0)\n",
    "df_trip_201402['Start_Date'] = pd.to_datetime(df_trip_201402['Start_Date'])"
   ]
  },
  {
   "cell_type": "code",
   "execution_count": 4,
   "metadata": {
    "collapsed": true
   },
   "outputs": [],
   "source": [
    "# Extract the date\n",
    "df_trip_201402[\"only_date\"] = [d.date() for d in df_trip_201402[\"Start_Date\"]]\n",
    "\n",
    "# Added a new column weekdays\n",
    "df_trip_201402[\"weekdays\"] = [days(str(d.weekday())) for d in df_trip_201402[\"only_date\"]]"
   ]
  },
  {
   "cell_type": "code",
   "execution_count": 5,
   "metadata": {
    "collapsed": true
   },
   "outputs": [],
   "source": [
    "def manipualte_list(a):\n",
    "    c = a[-1]\n",
    "    a.insert(0,c)\n",
    "    del a[-1]\n",
    "    return a"
   ]
  },
  {
   "cell_type": "code",
   "execution_count": 6,
   "metadata": {},
   "outputs": [
    {
     "name": "stdout",
     "output_type": "stream",
     "text": [
      "Number of Subscribers\n",
      "{'Monday': 19705, 'Tuesday': 21461, 'Wednesday': 20248, 'Thursday': 21394, 'Friday': 19763, 'Saturday': 6073, 'Sunday': 5003}\n",
      "[5003, 19705, 21461, 20248, 21394, 19763, 6073]\n",
      "Number of Costumers\n",
      "{'Monday': 3433, 'Tuesday': 3217, 'Wednesday': 3403, 'Thursday': 3871, 'Friday': 4520, 'Saturday': 6340, 'Sunday': 5584}\n",
      "[5584, 3433, 3217, 3403, 3871, 4520, 6340]\n",
      "Total number of riders\n",
      "{'Monday': 23138, 'Tuesday': 24678, 'Wednesday': 23651, 'Thursday': 25265, 'Friday': 24283, 'Saturday': 12413, 'Sunday': 10587}\n",
      "[10587, 23138, 24678, 23651, 25265, 24283, 12413]\n"
     ]
    }
   ],
   "source": [
    "sub = 0\n",
    "cust = 0\n",
    "su,cu,total = {},{},{}\n",
    "su_l, cu_l, total_l = [],[],[]\n",
    "\n",
    "for i in weekday:\n",
    "    subsc = df_trip_201402[df_trip_201402['weekdays'].str.contains(i)]\n",
    "    sub,cust = 0,0\n",
    "    for j in range(len(subsc.index)):\n",
    "        if (subsc.iloc[j]['Subscription_Type'] == \"Subscriber\"):\n",
    "            sub += 1\n",
    "        else:\n",
    "            cust +=1\n",
    "    su[i] = sub\n",
    "    su_l.append(sub)\n",
    "    cu[i] = cust\n",
    "    cu_l.append(cust)\n",
    "    total[i] = (sub + cust)\n",
    "    total_l.append(sub + cust)\n",
    "    \n",
    "su_l = manipualte_list(su_l)\n",
    "cu_l = manipualte_list(cu_l)\n",
    "total_l = manipualte_list(total_l)\n",
    "print(\"Number of Subscribers\")\n",
    "print(su)\n",
    "print(su_l)\n",
    "print(\"Number of Costumers\")\n",
    "print(cu)\n",
    "print(cu_l)\n",
    "print(\"Total number of riders\")\n",
    "print(total)\n",
    "print(total_l)"
   ]
  },
  {
   "cell_type": "code",
   "execution_count": 7,
   "metadata": {},
   "outputs": [
    {
     "data": {
      "text/html": [
       "<iframe id=\"igraph\" scrolling=\"no\" style=\"border:none;\" seamless=\"seamless\" src=\"https://plot.ly/~dasManaswini/16.embed\" height=\"525px\" width=\"100%\"></iframe>"
      ],
      "text/plain": [
       "<plotly.tools.PlotlyDisplay object>"
      ]
     },
     "execution_count": 7,
     "metadata": {},
     "output_type": "execute_result"
    }
   ],
   "source": [
    "weekday = [\"Sunday\",\"Monday\", \"Tuesday\",  \"Wednesday\", \"Thursday\", \"Friday\", \"Saturday\"]\n",
    "x_plot = np.arange(len(weekday))\n",
    "\n",
    "data1 = [go.Bar(x=x_plot+1,y=total_l,\n",
    "        marker=dict(\n",
    "        color='#ACE6FD',\n",
    "        line=dict(\n",
    "            color='rgb(8,48,107)',\n",
    "            width=2,\n",
    "        )\n",
    "    ))\n",
    "]\n",
    "\n",
    "data2 = [go.Bar(x=x_plot+0.8,y=su_l,\n",
    "        marker=dict(\n",
    "        color='#5CD1FE',\n",
    "        line=dict(\n",
    "            color='rgb(8,48,107)',\n",
    "            width=1.5,\n",
    "        )\n",
    "    ),\n",
    "    opacity=0.4)\n",
    "       ]\n",
    "data3 = [go.Bar(x=x_plot+1.2,y=cu_l,\n",
    "        marker=dict(\n",
    "        color='#0AB9FB',\n",
    "        line=dict(\n",
    "            color='rgb(8,48,107)',\n",
    "            width=1,\n",
    "        )\n",
    "    ),\n",
    "    opacity=0.8)\n",
    "       ]\n",
    "\n",
    "\n",
    "# data = [data2]\n",
    "# layout = go.Layout(barmode='group')\n",
    "\n",
    "# f = go.Figure(data=[data2], layout=go.Layout(barmode='group'))\n",
    "py.iplot(data1, filename='grouped-bar')"
   ]
  },
  {
   "cell_type": "code",
   "execution_count": null,
   "metadata": {
    "collapsed": true
   },
   "outputs": [],
   "source": []
  }
 ],
 "metadata": {
  "kernelspec": {
   "display_name": "Python 3",
   "language": "python",
   "name": "python3"
  },
  "language_info": {
   "codemirror_mode": {
    "name": "ipython",
    "version": 3
   },
   "file_extension": ".py",
   "mimetype": "text/x-python",
   "name": "python",
   "nbconvert_exporter": "python",
   "pygments_lexer": "ipython3",
   "version": "3.6.2"
  }
 },
 "nbformat": 4,
 "nbformat_minor": 2
}
